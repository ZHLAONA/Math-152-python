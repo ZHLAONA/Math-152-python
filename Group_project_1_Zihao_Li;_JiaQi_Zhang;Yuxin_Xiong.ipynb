{
  "nbformat": 4,
  "nbformat_minor": 0,
  "metadata": {
    "colab": {
      "provenance": [],
      "authorship_tag": "ABX9TyPeuBG/Nej+z5D6ciC94YQt",
      "include_colab_link": true
    },
    "kernelspec": {
      "name": "python3",
      "display_name": "Python 3"
    },
    "language_info": {
      "name": "python"
    }
  },
  "cells": [
    {
      "cell_type": "markdown",
      "metadata": {
        "id": "view-in-github",
        "colab_type": "text"
      },
      "source": [
        "<a href=\"https://colab.research.google.com/github/ZHLAONA/Math-152-python/blob/main/Group_project_1_Zihao_Li%3B_JiaQi_Zhang%3BYuxin_Xiong.ipynb\" target=\"_parent\"><img src=\"https://colab.research.google.com/assets/colab-badge.svg\" alt=\"Open In Colab\"/></a>"
      ]
    },
    {
      "cell_type": "markdown",
      "source": [
        "**Group Porject 1**\n",
        "In this project My group and I will talk about The Collatz Conjecture as known as the (3n+1) problem and eventually generate a solution for this topic based on the problem below"
      ],
      "metadata": {
        "id": "Yc73VIEYMnzx"
      }
    },
    {
      "cell_type": "markdown",
      "source": [
        "# Topic 4:  The Collatz Conjecture\n",
        "\n",
        "Begin with an integer $n$.  If it is even, divide it by $2$.  If it is odd, triple it and add one.  Then repeat.  \n",
        "\n",
        "For example, if you begin with the number $3$, you get the sequence:\n",
        "$$3, 10, 5, 16, 8, 4, 2, 1, 4, 2, 1, \\ldots.$$\n",
        "\n",
        "It is a famous open conjecture (the Collatz conjecture, or $3n+1$ problem) that... if you begin with *any* positive integer $n$, then the resulting sequence ends up in the repeating $4,2,1,4,2,1,\\ldots$ cycle.  "
      ],
      "metadata": {
        "id": "0B-tsC_dSlEc"
      }
    },
    {
      "cell_type": "markdown",
      "source": [
        "In the next following code we write a function which takes an integer  n  as input, and outputs or otherwise prints the \"Collatz\" sequence until it hits the number 1 . Since if it starts with 1,it will go back to one and it is a loop. First print the first number and enter in a if-statement according to the (3n+1) problem"
      ],
      "metadata": {
        "id": "x9ZQ7VFxSzIB"
      }
    },
    {
      "cell_type": "code",
      "execution_count": null,
      "metadata": {
        "id": "cGVqRSA5MGs7"
      },
      "outputs": [],
      "source": [
        "# Since if it starts with 1,it will go back to one and it is a loop. First print the first number and enter in a if-statement according to the (3n+1) problem\n",
        "def Collatz(n):\n",
        "  if type(n) == int:\n",
        "    while n != 1:\n",
        "      print(n)\n",
        "      if n % 2 == 0:\n",
        "        n = n // 2\n",
        "      else:\n",
        "        n = 3 * n + 1\n",
        "    print(n)\n",
        "  else:\n",
        "    raise TypeError(\"Only integers can be even or odd.\")\n",
        "Collatz(5)"
      ]
    },
    {
      "cell_type": "markdown",
      "source": [
        "Next we extended the code used in the first problem and modified it somewhat to fit the topic. In order to find the number of steps in the Collatz sequence until a smaller integer is found, we first assign two new variables, steps and input_num. Each time the looped part of the code is executed once, the number of steps is increased by 1. We use input_num to keep track of the initial n value, in case the n is assigned a new value after the loop. When the n is less than input_num, which is the initial n value, we stop the loop and return the number of steps. The number of steps at this point is the number of steps in the Collatz sequence until a smaller integer is found.And we call this the dropping time. For example dropping time of 3 is 6."
      ],
      "metadata": {
        "id": "ELJt6Or2mzIi"
      }
    },
    {
      "cell_type": "code",
      "source": [
        "#Ex2: I use break at the end of while loop once n is smaller than the input number\n",
        "def count_steps(n):\n",
        "  # Set the initial steps as 0.\n",
        "  steps = 0\n",
        "  # We set an input num to avoid not being able to find the dropping time after the new value of n is assigned. \n",
        "  input_num = n\n",
        "  while n != 1:\n",
        "    if n % 2 == 0:\n",
        "      n = n // 2\n",
        "    else:\n",
        "      n = 3 * n + 1\n",
        "    # Each time the loop is triggered, the number of steps is recorded + 1.\n",
        "    steps += 1\n",
        "    # When the n is smaller than the initial number. \n",
        "    if n < input_num:\n",
        "      break\n",
        "  # This is the number of steps in the Collatz sequence until a smaller integer is found.\n",
        "  return steps\n",
        "count_steps(3)"
      ],
      "metadata": {
        "colab": {
          "base_uri": "https://localhost:8080/"
        },
        "id": "Xp8hLn7Hhuz9",
        "outputId": "f493cc19-8ba6-4c41-e951-e4b40c1cd4d4"
      },
      "execution_count": 2,
      "outputs": [
        {
          "output_type": "execute_result",
          "data": {
            "text/plain": [
              "6"
            ]
          },
          "metadata": {},
          "execution_count": 2
        }
      ]
    },
    {
      "cell_type": "markdown",
      "source": [
        "Then we want to see with the input integer get greater such as to 100, how the dropping time will change or does it have a specific order? To figure this out, I add a for loop to count the input from 1 to 100 after the funtion we have above."
      ],
      "metadata": {
        "id": "39C6cl-yhyqd"
      }
    },
    {
      "cell_type": "code",
      "source": [
        "# Funtion I write above can be used in here as well. Also travering every integer from 1 to 100\n",
        "def count_steps(n):\n",
        "  steps = 0\n",
        "  input_num = n\n",
        "  while n != 1:\n",
        "    if n % 2 == 0:\n",
        "      n = n // 2\n",
        "    else:\n",
        "      n = 3 * n + 1\n",
        "    steps += 1\n",
        "    if n < input_num:\n",
        "      break  \n",
        "  return steps  \n",
        "count_steps(3)\n",
        "\n",
        "for i in range(1,101):\n",
        "  res = count_steps(i)\n",
        "  print(\"The dropping time of number: \", i, \"is\", res)"
      ],
      "metadata": {
        "id": "bBERYSo6kZ6F",
        "colab": {
          "base_uri": "https://localhost:8080/"
        },
        "outputId": "59c61280-84b8-4e74-d3a5-93b1b02e9ec2"
      },
      "execution_count": 3,
      "outputs": [
        {
          "output_type": "stream",
          "name": "stdout",
          "text": [
            "The dropping time of number:  1 is 0\n",
            "The dropping time of number:  2 is 1\n",
            "The dropping time of number:  3 is 6\n",
            "The dropping time of number:  4 is 1\n",
            "The dropping time of number:  5 is 3\n",
            "The dropping time of number:  6 is 1\n",
            "The dropping time of number:  7 is 11\n",
            "The dropping time of number:  8 is 1\n",
            "The dropping time of number:  9 is 3\n",
            "The dropping time of number:  10 is 1\n",
            "The dropping time of number:  11 is 8\n",
            "The dropping time of number:  12 is 1\n",
            "The dropping time of number:  13 is 3\n",
            "The dropping time of number:  14 is 1\n",
            "The dropping time of number:  15 is 11\n",
            "The dropping time of number:  16 is 1\n",
            "The dropping time of number:  17 is 3\n",
            "The dropping time of number:  18 is 1\n",
            "The dropping time of number:  19 is 6\n",
            "The dropping time of number:  20 is 1\n",
            "The dropping time of number:  21 is 3\n",
            "The dropping time of number:  22 is 1\n",
            "The dropping time of number:  23 is 8\n",
            "The dropping time of number:  24 is 1\n",
            "The dropping time of number:  25 is 3\n",
            "The dropping time of number:  26 is 1\n",
            "The dropping time of number:  27 is 96\n",
            "The dropping time of number:  28 is 1\n",
            "The dropping time of number:  29 is 3\n",
            "The dropping time of number:  30 is 1\n",
            "The dropping time of number:  31 is 91\n",
            "The dropping time of number:  32 is 1\n",
            "The dropping time of number:  33 is 3\n",
            "The dropping time of number:  34 is 1\n",
            "The dropping time of number:  35 is 6\n",
            "The dropping time of number:  36 is 1\n",
            "The dropping time of number:  37 is 3\n",
            "The dropping time of number:  38 is 1\n",
            "The dropping time of number:  39 is 13\n",
            "The dropping time of number:  40 is 1\n",
            "The dropping time of number:  41 is 3\n",
            "The dropping time of number:  42 is 1\n",
            "The dropping time of number:  43 is 8\n",
            "The dropping time of number:  44 is 1\n",
            "The dropping time of number:  45 is 3\n",
            "The dropping time of number:  46 is 1\n",
            "The dropping time of number:  47 is 88\n",
            "The dropping time of number:  48 is 1\n",
            "The dropping time of number:  49 is 3\n",
            "The dropping time of number:  50 is 1\n",
            "The dropping time of number:  51 is 6\n",
            "The dropping time of number:  52 is 1\n",
            "The dropping time of number:  53 is 3\n",
            "The dropping time of number:  54 is 1\n",
            "The dropping time of number:  55 is 8\n",
            "The dropping time of number:  56 is 1\n",
            "The dropping time of number:  57 is 3\n",
            "The dropping time of number:  58 is 1\n",
            "The dropping time of number:  59 is 11\n",
            "The dropping time of number:  60 is 1\n",
            "The dropping time of number:  61 is 3\n",
            "The dropping time of number:  62 is 1\n",
            "The dropping time of number:  63 is 88\n",
            "The dropping time of number:  64 is 1\n",
            "The dropping time of number:  65 is 3\n",
            "The dropping time of number:  66 is 1\n",
            "The dropping time of number:  67 is 6\n",
            "The dropping time of number:  68 is 1\n",
            "The dropping time of number:  69 is 3\n",
            "The dropping time of number:  70 is 1\n",
            "The dropping time of number:  71 is 83\n",
            "The dropping time of number:  72 is 1\n",
            "The dropping time of number:  73 is 3\n",
            "The dropping time of number:  74 is 1\n",
            "The dropping time of number:  75 is 8\n",
            "The dropping time of number:  76 is 1\n",
            "The dropping time of number:  77 is 3\n",
            "The dropping time of number:  78 is 1\n",
            "The dropping time of number:  79 is 13\n",
            "The dropping time of number:  80 is 1\n",
            "The dropping time of number:  81 is 3\n",
            "The dropping time of number:  82 is 1\n",
            "The dropping time of number:  83 is 6\n",
            "The dropping time of number:  84 is 1\n",
            "The dropping time of number:  85 is 3\n",
            "The dropping time of number:  86 is 1\n",
            "The dropping time of number:  87 is 8\n",
            "The dropping time of number:  88 is 1\n",
            "The dropping time of number:  89 is 3\n",
            "The dropping time of number:  90 is 1\n",
            "The dropping time of number:  91 is 73\n",
            "The dropping time of number:  92 is 1\n",
            "The dropping time of number:  93 is 3\n",
            "The dropping time of number:  94 is 1\n",
            "The dropping time of number:  95 is 13\n",
            "The dropping time of number:  96 is 1\n",
            "The dropping time of number:  97 is 3\n",
            "The dropping time of number:  98 is 1\n",
            "The dropping time of number:  99 is 6\n",
            "The dropping time of number:  100 is 1\n"
          ]
        }
      ]
    },
    {
      "cell_type": "markdown",
      "source": [
        "So every even number always has a dropping number 1. Also it seems like I am unable to predict the dropping time of a specfic number because it does not have an order. And some of odd numbers have dropping time 3. Normally dropping time increase as the input number increases"
      ],
      "metadata": {
        "id": "6dfmwU8El1KG"
      }
    },
    {
      "cell_type": "markdown",
      "source": [
        "exploration: We continue to extend the code used in the first problem. The only modification is we choose to break the loop when n is bigger than input_num. Because we are testing the result of negative numbers, but when a negative even number is being calculated, the loop will end after the first calculation if we still use the code n is less than input_num. We found that every negative odd integer always has a dropping time of 1. The interesting point is that when we are testing the number -17, it keeps on counting, while it does not happen with smaller numbers like -15, -13, etc. "
      ],
      "metadata": {
        "id": "1UOwXDBloBFb"
      }
    },
    {
      "cell_type": "code",
      "source": [
        "#testing dropping time of negative numbers in the range of (-100,-2)\n",
        "def count_steps(n):\n",
        "  steps = 0\n",
        "  input_num = n\n",
        "  while n != 1:\n",
        "    if n % 2 == 0:\n",
        "      n = n // 2\n",
        "    else:\n",
        "      n = 3 * n + 1\n",
        "    steps += 1\n",
        "    # We choose to break the loop as the n is bigger than input_num.\n",
        "    if n > input_num:\n",
        "      break\n",
        "  return steps\n",
        "for i in range(-100,-1):\n",
        "  res = count_steps(i)\n",
        "  print(\"The dropping time of number: \", i, \"is\", res)"
      ],
      "metadata": {
        "colab": {
          "base_uri": "https://localhost:8080/",
          "height": 1000
        },
        "id": "65642urzoGig",
        "outputId": "d92a52b4-03cf-44b3-f3af-7d77ef637d74"
      },
      "execution_count": 5,
      "outputs": [
        {
          "output_type": "stream",
          "name": "stdout",
          "text": [
            "The dropping time of number:  -100 is 1\n",
            "The dropping time of number:  -99 is 3\n",
            "The dropping time of number:  -98 is 1\n",
            "The dropping time of number:  -97 is 26\n",
            "The dropping time of number:  -96 is 1\n",
            "The dropping time of number:  -95 is 3\n",
            "The dropping time of number:  -94 is 1\n",
            "The dropping time of number:  -93 is 6\n",
            "The dropping time of number:  -92 is 1\n",
            "The dropping time of number:  -91 is 3\n",
            "The dropping time of number:  -90 is 1\n",
            "The dropping time of number:  -89 is 21\n",
            "The dropping time of number:  -88 is 1\n",
            "The dropping time of number:  -87 is 3\n",
            "The dropping time of number:  -86 is 1\n",
            "The dropping time of number:  -85 is 8\n",
            "The dropping time of number:  -84 is 1\n",
            "The dropping time of number:  -83 is 3\n",
            "The dropping time of number:  -82 is 1\n",
            "The dropping time of number:  -81 is 13\n",
            "The dropping time of number:  -80 is 1\n",
            "The dropping time of number:  -79 is 3\n",
            "The dropping time of number:  -78 is 1\n",
            "The dropping time of number:  -77 is 6\n",
            "The dropping time of number:  -76 is 1\n",
            "The dropping time of number:  -75 is 3\n",
            "The dropping time of number:  -74 is 1\n",
            "The dropping time of number:  -73 is 8\n",
            "The dropping time of number:  -72 is 1\n",
            "The dropping time of number:  -71 is 3\n",
            "The dropping time of number:  -70 is 1\n",
            "The dropping time of number:  -69 is 11\n",
            "The dropping time of number:  -68 is 1\n",
            "The dropping time of number:  -67 is 3\n",
            "The dropping time of number:  -66 is 1\n",
            "The dropping time of number:  -65 is 29\n",
            "The dropping time of number:  -64 is 1\n",
            "The dropping time of number:  -63 is 3\n",
            "The dropping time of number:  -62 is 1\n",
            "The dropping time of number:  -61 is 6\n",
            "The dropping time of number:  -60 is 1\n",
            "The dropping time of number:  -59 is 3\n",
            "The dropping time of number:  -58 is 1\n",
            "The dropping time of number:  -57 is 13\n",
            "The dropping time of number:  -56 is 1\n",
            "The dropping time of number:  -55 is 3\n",
            "The dropping time of number:  -54 is 1\n",
            "The dropping time of number:  -53 is 8\n",
            "The dropping time of number:  -52 is 1\n",
            "The dropping time of number:  -51 is 3\n",
            "The dropping time of number:  -50 is 1\n",
            "The dropping time of number:  -49 is 16\n",
            "The dropping time of number:  -48 is 1\n",
            "The dropping time of number:  -47 is 3\n",
            "The dropping time of number:  -46 is 1\n",
            "The dropping time of number:  -45 is 6\n",
            "The dropping time of number:  -44 is 1\n",
            "The dropping time of number:  -43 is 3\n",
            "The dropping time of number:  -42 is 1\n",
            "The dropping time of number:  -41 is 8\n",
            "The dropping time of number:  -40 is 1\n",
            "The dropping time of number:  -39 is 3\n",
            "The dropping time of number:  -38 is 1\n",
            "The dropping time of number:  -37 is 13\n",
            "The dropping time of number:  -36 is 1\n",
            "The dropping time of number:  -35 is 3\n",
            "The dropping time of number:  -34 is 1\n",
            "The dropping time of number:  -33 is 19\n",
            "The dropping time of number:  -32 is 1\n",
            "The dropping time of number:  -31 is 3\n",
            "The dropping time of number:  -30 is 1\n",
            "The dropping time of number:  -29 is 6\n",
            "The dropping time of number:  -28 is 1\n",
            "The dropping time of number:  -27 is 3\n",
            "The dropping time of number:  -26 is 1\n",
            "The dropping time of number:  -25 is 16\n",
            "The dropping time of number:  -24 is 1\n",
            "The dropping time of number:  -23 is 3\n",
            "The dropping time of number:  -22 is 1\n",
            "The dropping time of number:  -21 is 8\n",
            "The dropping time of number:  -20 is 1\n",
            "The dropping time of number:  -19 is 3\n",
            "The dropping time of number:  -18 is 1\n"
          ]
        },
        {
          "output_type": "error",
          "ename": "KeyboardInterrupt",
          "evalue": "ignored",
          "traceback": [
            "\u001b[0;31m---------------------------------------------------------------------------\u001b[0m",
            "\u001b[0;31mKeyboardInterrupt\u001b[0m                         Traceback (most recent call last)",
            "\u001b[0;32m<ipython-input-5-a37e2f2e8351>\u001b[0m in \u001b[0;36m<module>\u001b[0;34m\u001b[0m\n\u001b[1;32m     14\u001b[0m   \u001b[0;32mreturn\u001b[0m \u001b[0msteps\u001b[0m\u001b[0;34m\u001b[0m\u001b[0;34m\u001b[0m\u001b[0m\n\u001b[1;32m     15\u001b[0m \u001b[0;32mfor\u001b[0m \u001b[0mi\u001b[0m \u001b[0;32min\u001b[0m \u001b[0mrange\u001b[0m\u001b[0;34m(\u001b[0m\u001b[0;34m-\u001b[0m\u001b[0;36m100\u001b[0m\u001b[0;34m,\u001b[0m\u001b[0;34m-\u001b[0m\u001b[0;36m1\u001b[0m\u001b[0;34m)\u001b[0m\u001b[0;34m:\u001b[0m\u001b[0;34m\u001b[0m\u001b[0;34m\u001b[0m\u001b[0m\n\u001b[0;32m---> 16\u001b[0;31m   \u001b[0mres\u001b[0m \u001b[0;34m=\u001b[0m \u001b[0mcount_steps\u001b[0m\u001b[0;34m(\u001b[0m\u001b[0mi\u001b[0m\u001b[0;34m)\u001b[0m\u001b[0;34m\u001b[0m\u001b[0;34m\u001b[0m\u001b[0m\n\u001b[0m\u001b[1;32m     17\u001b[0m   \u001b[0mprint\u001b[0m\u001b[0;34m(\u001b[0m\u001b[0;34m\"The dropping time of number: \"\u001b[0m\u001b[0;34m,\u001b[0m \u001b[0mi\u001b[0m\u001b[0;34m,\u001b[0m \u001b[0;34m\"is\"\u001b[0m\u001b[0;34m,\u001b[0m \u001b[0mres\u001b[0m\u001b[0;34m)\u001b[0m\u001b[0;34m\u001b[0m\u001b[0;34m\u001b[0m\u001b[0m\n",
            "\u001b[0;32m<ipython-input-5-a37e2f2e8351>\u001b[0m in \u001b[0;36mcount_steps\u001b[0;34m(n)\u001b[0m\n\u001b[1;32m     10\u001b[0m     \u001b[0msteps\u001b[0m \u001b[0;34m+=\u001b[0m \u001b[0;36m1\u001b[0m\u001b[0;34m\u001b[0m\u001b[0;34m\u001b[0m\u001b[0m\n\u001b[1;32m     11\u001b[0m     \u001b[0;31m# We choose to break the loop as the n is bigger than input_num.\u001b[0m\u001b[0;34m\u001b[0m\u001b[0;34m\u001b[0m\u001b[0;34m\u001b[0m\u001b[0m\n\u001b[0;32m---> 12\u001b[0;31m     \u001b[0;32mif\u001b[0m \u001b[0mn\u001b[0m \u001b[0;34m>\u001b[0m \u001b[0minput_num\u001b[0m\u001b[0;34m:\u001b[0m\u001b[0;34m\u001b[0m\u001b[0;34m\u001b[0m\u001b[0m\n\u001b[0m\u001b[1;32m     13\u001b[0m       \u001b[0;32mbreak\u001b[0m\u001b[0;34m\u001b[0m\u001b[0;34m\u001b[0m\u001b[0m\n\u001b[1;32m     14\u001b[0m   \u001b[0;32mreturn\u001b[0m \u001b[0msteps\u001b[0m\u001b[0;34m\u001b[0m\u001b[0;34m\u001b[0m\u001b[0m\n",
            "\u001b[0;31mKeyboardInterrupt\u001b[0m: "
          ]
        }
      ]
    },
    {
      "cell_type": "markdown",
      "source": [
        "As I found that every negative odd integer always has a dropping time of 1. Above I run a test to see the dropping time of negative numbers in the range of (-100,-2) and it exceed the limit of compiling time. If I change the n < input_num to n > input_num and will get partial result and I can see it is still unordered. We can it the output above, it stops at -17 for a really long time and did not get a dropping time for that. what we found now is input numebr as -17 will turn into a long-time loop that colab will exceed the compiling time."
      ],
      "metadata": {
        "id": "ngWCtZdgoU4D"
      }
    }
  ]
}